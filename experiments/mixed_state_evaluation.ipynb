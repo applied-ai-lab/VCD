{
 "cells": [
  {
   "cell_type": "code",
   "execution_count": 1,
   "metadata": {},
   "outputs": [],
   "source": [
    "import sys\n",
    "sys.path.append('..')"
   ]
  },
  {
   "cell_type": "code",
   "execution_count": 2,
   "metadata": {},
   "outputs": [],
   "source": [
    "from data import dataset, generate_data\n",
    "from models import RSSM, MultiRSSM, VCD\n",
    "import json\n",
    "from jax import random\n",
    "from jax import numpy as jnp\n",
    "import flax\n",
    "from flax import serialization\n",
    "from matplotlib import pyplot as plt\n",
    "import os"
   ]
  },
  {
   "cell_type": "code",
   "execution_count": 14,
   "metadata": {},
   "outputs": [],
   "source": [
    "def rollout_error(dataloader, model_class, run_path, checkpoint_id, observation_steps):\n",
    "    model_conf = json.load(open(os.path.join(run_path, 'model_conf.json')))\n",
    "    model = model_class(\n",
    "        latent_dim=model_conf[\"latent_dim\"],\n",
    "        action_dim=2,\n",
    "        hidden_dim=model_conf[\"hidden_dim\"],\n",
    "        obs_dim=12,\n",
    "        n_env=len(data_conf[\"train_data_conf\"][\"interventions\"]),\n",
    "    )\n",
    "\n",
    "    rng, key = random.split(random.PRNGKey(model_conf[\"random_seed\"]))\n",
    "    state = model.init_train_state(rng, dataloader[0], lr=model_conf[\"lr\"])\n",
    "    state_dict = jnp.load(os.path.join(run_path, f'model_checkpoint_{checkpoint_id}.npy'), allow_pickle=True).item()['state_dict']\n",
    "    state = serialization.from_state_dict(state, state_dict)\n",
    "\n",
    "    log = []\n",
    "    carry = model.get_init_carry(model_conf['hidden_dim'], model_conf['latent_dim'], 2, test_data[0][0][0], state_dict['params']['params'], rng)\n",
    "    episode_length = dataloader[0][0].shape[0]\n",
    "    for i in range(episode_length):\n",
    "        if i <= observation_steps:\n",
    "            carry, out = model.apply(state.params, carry, test_data[0][0][i], test_data[0][1][i], method=model.rollout)\n",
    "        else:\n",
    "            carry, out = model.apply(state.params, carry, None, test_data[0][1][i], method=model.rollout)\n",
    "        log.append(jnp.median(((out[0]-test_data[0][0][i])**2).sum(-1).mean(-1)))\n",
    "    return log"
   ]
  },
  {
   "cell_type": "code",
   "execution_count": 4,
   "metadata": {},
   "outputs": [],
   "source": [
    "data_conf = json.load(open('../data/mixed_state_data_conf.json'))\n",
    "test_data_config = data_conf['test_data_conf']\n",
    "mixing_matrix = random.normal(random.PRNGKey(0), (8, 12))\n",
    "mixing_function = lambda x: x @ mixing_matrix"
   ]
  },
  {
   "cell_type": "code",
   "execution_count": 5,
   "metadata": {},
   "outputs": [],
   "source": [
    "test_data = dataset.DataLoader(\n",
    "    generate_data.get_states,\n",
    "    test_data_config,\n",
    "    200,\n",
    "    data_conf[\"test_data_seed\"],\n",
    "    mixing_function,\n",
    ")"
   ]
  },
  {
   "cell_type": "code",
   "execution_count": 26,
   "metadata": {},
   "outputs": [],
   "source": [
    "rssm_log = rollout_error(test_data, RSSM.RSSM, '../runs/RSSM', 2200, 100)\n",
    "multi_log = rollout_error(test_data, MultiRSSM.MultiRSSM, '../runs/MultiRSSM/', 2200, 100)\n",
    "vcd_log = rollout_error(test_data, VCD.VCD, '../runs/VCD/', 400, 100)"
   ]
  },
  {
   "cell_type": "code",
   "execution_count": 27,
   "metadata": {},
   "outputs": [
    {
     "data": {
      "text/plain": [
       "(0.0, 30.0)"
      ]
     },
     "execution_count": 27,
     "metadata": {},
     "output_type": "execute_result"
    },
    {
     "data": {
      "image/png": "[encoded data removed]",
      "text/plain": [
       "<Figure size 432x288 with 1 Axes>"
      ]
     },
     "metadata": {
      "needs_background": "light"
     },
     "output_type": "display_data"
    }
   ],
   "source": [
    "plt.plot(rssm_log)\n",
    "plt.plot(multi_log)\n",
    "plt.plot(vcd_log)\n",
    "plt.ylim([0,30])"
   ]
  },
  {
   "cell_type": "code",
   "execution_count": 20,
   "metadata": {},
   "outputs": [
    {
     "data": {
      "text/plain": [
       "DeviceArray(0.07878934, dtype=float32)"
      ]
     },
     "execution_count": 20,
     "metadata": {},
     "output_type": "execute_result"
    }
   ],
   "source": [
    "rssm_log[10]"
   ]
  },
  {
   "cell_type": "code",
   "execution_count": null,
   "metadata": {},
   "outputs": [],
   "source": []
  }
 ],
 "metadata": {
  "kernelspec": {
   "display_name": "Python 3.9.13",
   "language": "python",
   "name": "python3"
  },
  "language_info": {
   "codemirror_mode": {
    "name": "ipython",
    "version": 3
   },
   "file_extension": ".py",
   "mimetype": "text/x-python",
   "name": "python",
   "nbconvert_exporter": "python",
   "pygments_lexer": "ipython3",
   "version": "3.9.13"
  },
  "orig_nbformat": 4,
  "vscode": {
   "interpreter": {
    "hash": "ad9a1871afe6dac80ccb59962037e7f5f3f6d5fbffcdc0af077d19cff6e0fa57"
   }
  }
 },
 "nbformat": 4,
 "nbformat_minor": 2
}
